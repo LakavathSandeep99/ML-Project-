{
 "cells": [
  {
   "cell_type": "markdown",
   "id": "9226abfb",
   "metadata": {},
   "source": [
    "### Student Performance Indicator"
   ]
  },
  {
   "cell_type": "markdown",
   "id": "774f86a2",
   "metadata": {},
   "source": [
    "## Life cycle of Machine learning Project\n",
    "\n",
    "Understanding the Problem Statement\n",
    "\n",
    "Data Collection\n",
    "\n",
    "Data Checks to perform\n",
    "\n",
    "Exploratory data analysis\n",
    "\n",
    "Data Pre-Processing\n",
    "\n",
    "Model Training\n",
    "\n",
    "Choose best model"
   ]
  },
  {
   "cell_type": "markdown",
   "id": "39194c4a",
   "metadata": {},
   "source": [
    "### 1. Problem statement\n",
    "\n",
    "This project understands how the student's performance (test scores) is affected by other variables such as Gender, Ethnicity, Parental level of education, Lunch and Test preparation course."
   ]
  },
  {
   "cell_type": "markdown",
   "id": "2600009d",
   "metadata": {},
   "source": [
    "2) Data Collection\n",
    "\n",
    "Dataset Source - https://www.kaggle.com/datasets/spscientist/students-performance-in-exams?datasetId=74977\n",
    "\n",
    "\n",
    "The data consists of 8 column and 1000 rows."
   ]
  },
  {
   "cell_type": "markdown",
   "id": "f84eecbf",
   "metadata": {},
   "source": [
    "### 2.1 Import Data and Required Packages\n",
    "\n",
    "Importing Pandas, Numpy, Matplotlib, Seaborn and Warings Library."
   ]
  },
  {
   "cell_type": "code",
   "execution_count": null,
   "id": "7ff0f158",
   "metadata": {},
   "outputs": [],
   "source": [
    "import numpy as np\n",
    "import pandas as pd\n",
    "import seaborn as sns\n",
    "import matplotlib.pyplot as plt\n",
    "%matplotlib inline\n",
    "import warnings\n",
    "warnings.filterwarnings('ignore')"
   ]
  },
  {
   "cell_type": "markdown",
   "id": "8bfac48c",
   "metadata": {},
   "source": [
    "#### Import the CSV Data as Pandas DataFrame\n"
   ]
  },
  {
   "cell_type": "code",
   "execution_count": null,
   "id": "db05f7e3",
   "metadata": {},
   "outputs": [],
   "source": [
    "df = pd.read_csv('data/stud.csv')"
   ]
  },
  {
   "cell_type": "code",
   "execution_count": null,
   "id": "e4ded9d6",
   "metadata": {},
   "outputs": [],
   "source": [
    "df.head()"
   ]
  },
  {
   "cell_type": "code",
   "execution_count": null,
   "id": "6b2857f2",
   "metadata": {},
   "outputs": [],
   "source": [
    "## Shape of the dataset\n",
    "df.shape"
   ]
  },
  {
   "cell_type": "markdown",
   "id": "bbdd236c",
   "metadata": {},
   "source": [
    "#### 2.2 Dataset information\n",
    "\n",
    "gender : sex of students -> (Male/female)\n",
    "\n",
    "race/ethnicity : ethnicity of students -> (Group A, B,C, D,E)\n",
    "\n",
    "parental level of education : parents' final education ->(bachelor's degree,some college,master's degree,\n",
    "associate's degree,high school)\n",
    "\n",
    "lunch : having lunch before test (standard or free/reduced)\n",
    "test preparation course : complete or not complete before test\n",
    "\n",
    "math score\n",
    "\n",
    "reading score\n",
    "\n",
    "writing score"
   ]
  },
  {
   "cell_type": "markdown",
   "id": "c9e951b2",
   "metadata": {},
   "source": [
    "#### 3. Data Checks to perform\n",
    "\n",
    "Check Missing values\n",
    "\n",
    "Check Duplicates\n",
    "\n",
    "Check data type\n",
    "\n",
    "Check the number of unique values of each column\n",
    "\n",
    "Check statistics of data set\n",
    "\n",
    "Check various categories present in the different categorical column"
   ]
  },
  {
   "cell_type": "markdown",
   "id": "08be991f",
   "metadata": {},
   "source": [
    "### check Missing values"
   ]
  },
  {
   "cell_type": "code",
   "execution_count": null,
   "id": "0c197b1c",
   "metadata": {},
   "outputs": [],
   "source": [
    "df.isna().sum()"
   ]
  },
  {
   "cell_type": "markdown",
   "id": "8d48bdaa",
   "metadata": {},
   "source": [
    "### 3.2 Check Duplicates"
   ]
  },
  {
   "cell_type": "code",
   "execution_count": null,
   "id": "2edb871d",
   "metadata": {},
   "outputs": [],
   "source": [
    "df.info()"
   ]
  },
  {
   "cell_type": "markdown",
   "id": "f992f358",
   "metadata": {},
   "source": [
    "### 3.4 Checking the number of unique values of each column"
   ]
  },
  {
   "cell_type": "code",
   "execution_count": null,
   "id": "49ca79ea",
   "metadata": {},
   "outputs": [],
   "source": [
    "df.nunique()"
   ]
  },
  {
   "cell_type": "markdown",
   "id": "1850f255",
   "metadata": {},
   "source": [
    "### 3.5 Check statistics of data set"
   ]
  },
  {
   "cell_type": "code",
   "execution_count": null,
   "id": "d4f175d7",
   "metadata": {},
   "outputs": [],
   "source": [
    "df.describe()"
   ]
  },
  {
   "cell_type": "markdown",
   "id": "79c48360",
   "metadata": {},
   "source": [
    "#### Insight\n",
    "From above description of numerical data, all means are very close to each other - between 66 and 68.05;\n",
    "\n",
    "All standard deviations are also close - between 14.6 and 15.19;\n",
    "\n",
    "While there is a minimum score 0 for math, for writing minimum is much higher = 10 and for reading myet higher = 17"
   ]
  },
  {
   "cell_type": "markdown",
   "id": "e3b61f2b",
   "metadata": {},
   "source": [
    "### 3.7 Exploring Data"
   ]
  },
  {
   "cell_type": "code",
   "execution_count": null,
   "id": "d0749e6a",
   "metadata": {},
   "outputs": [],
   "source": [
    "df.head()"
   ]
  },
  {
   "cell_type": "code",
   "execution_count": null,
   "id": "52176753",
   "metadata": {},
   "outputs": [],
   "source": [
    "print(\"Categories in 'gender' variable:     \",end=\" \" )\n",
    "print(df['gender'].unique())\n",
    "\n",
    "print(\"Categories in 'race_ethnicity' variable:  \",end=\" \")\n",
    "print(df['race_ethnicity'].unique())\n",
    "\n",
    "print(\"Categories in'parental level of education' variable:\",end=\" \" )\n",
    "print(df['parental_level_of_education'].unique())\n",
    "\n",
    "print(\"Categories in 'lunch' variable:     \",end=\" \" )\n",
    "print(df['lunch'].unique())\n",
    "\n",
    "print(\"Categories in 'test preparation course' variable:     \",end=\" \" )\n",
    "print(df['test_preparation_course'].unique())"
   ]
  },
  {
   "cell_type": "code",
   "execution_count": null,
   "id": "fbe47637",
   "metadata": {},
   "outputs": [],
   "source": [
    "# define numerical & categorical columns\n",
    "numeric_features = [feature for feature in df.columns if df[feature].dtype != 'O']\n",
    "categorical_features = [feature for feature in df.columns if df[feature].dtype == 'O']\n",
    "\n",
    "# print columns\n",
    "print('We have {} numerical features : {}'.format(len(numeric_features), numeric_features))\n",
    "print('\\nWe have {} categorical features : {}'.format(len(categorical_features), categorical_features))"
   ]
  },
  {
   "cell_type": "code",
   "execution_count": null,
   "id": "b0312521",
   "metadata": {},
   "outputs": [],
   "source": [
    "df.head(2)"
   ]
  },
  {
   "cell_type": "markdown",
   "id": "bc5b277e",
   "metadata": {},
   "source": [
    "### 3.8 Adding columns for \"Total Score\" and \"Average\""
   ]
  },
  {
   "cell_type": "code",
   "execution_count": null,
   "id": "451892e4",
   "metadata": {},
   "outputs": [],
   "source": [
    "df['total score'] = df['math_score'] + df['reading_score'] + df['writing_score']\n",
    "df['average'] = df['total score']/3\n",
    "df.head()"
   ]
  },
  {
   "cell_type": "code",
   "execution_count": null,
   "id": "a1605193",
   "metadata": {},
   "outputs": [],
   "source": [
    "reading_full = df[df['reading_score'] == 100]['average'].count()\n",
    "writing_full = df[df['writing_score'] == 100]['average'].count()\n",
    "math_full = df[df['math_score'] == 100]['average'].count()\n",
    "\n",
    "print(f'Number of students with full marks in Maths: {math_full}')\n",
    "print(f'Number of students with full marks in Writing: {writing_full}')\n",
    "print(f'Number of students with full marks in Reading: {reading_full}')"
   ]
  },
  {
   "cell_type": "code",
   "execution_count": null,
   "id": "f34ec214",
   "metadata": {},
   "outputs": [],
   "source": [
    "reading_less_20 = df[df['reading_score'] <= 20]['average'].count()\n",
    "writing_less_20 = df[df['writing_score'] <= 20]['average'].count()\n",
    "math_less_20 = df[df['math_score'] <= 20]['average'].count()\n",
    "\n",
    "print(f'Number of students with less than 20 marks in Maths: {math_less_20}')\n",
    "print(f'Number of students with less than 20 marks in Writing: {writing_less_20}')\n",
    "print(f'Number of students with less than 20 marks in Reading: {reading_less_20}')"
   ]
  },
  {
   "cell_type": "markdown",
   "id": "82a177ee",
   "metadata": {},
   "source": [
    "Insights\n",
    "\n",
    "From above values we get students have performed the worst in Maths\n",
    "Best performance is in reading section"
   ]
  },
  {
   "cell_type": "markdown",
   "id": "2d7027cb",
   "metadata": {},
   "source": [
    "##### 4. Exploring Data ( Visualization )\n",
    "\n",
    "##### 4.1 Visualize average score distribution to make some conclusion.\n",
    "\n",
    "Histogram\n",
    "\n",
    "Kernel Distribution Function (KDE)"
   ]
  },
  {
   "cell_type": "markdown",
   "id": "9f40a820",
   "metadata": {},
   "source": [
    "###  4.1.1 Histogram & KDE"
   ]
  },
  {
   "cell_type": "code",
   "execution_count": null,
   "id": "6d54323e",
   "metadata": {},
   "outputs": [],
   "source": [
    "fig, axs = plt.subplots(1, 2, figsize=(15, 7))\n",
    "plt.subplot(121)\n",
    "sns.histplot(data=df,x='average',bins=30,kde=True,color='g')\n",
    "plt.subplot(122)\n",
    "sns.histplot(data=df,x='average',kde=True,hue='gender')\n",
    "plt.show()"
   ]
  },
  {
   "cell_type": "code",
   "execution_count": null,
   "id": "91d6496a",
   "metadata": {},
   "outputs": [],
   "source": [
    "fig, axs = plt.subplots(1, 2, figsize=(15, 7))\n",
    "plt.subplot(121)\n",
    "sns.histplot(data=df,x='total score',bins=30,kde=True,color='g')\n",
    "plt.subplot(122)\n",
    "sns.histplot(data=df,x='total score',kde=True,hue='gender')\n",
    "plt.show()"
   ]
  },
  {
   "cell_type": "markdown",
   "id": "658ad847",
   "metadata": {},
   "source": [
    "Insights\n",
    "\n",
    "Female students tend to perform well then male students.\n"
   ]
  },
  {
   "cell_type": "code",
   "execution_count": null,
   "id": "cdaa0010",
   "metadata": {},
   "outputs": [],
   "source": [
    "plt.subplots(1,3,figsize=(25,6))\n",
    "plt.subplot(141)\n",
    "sns.histplot(data=df,x='average',kde=True,hue='lunch')\n",
    "plt.subplot(142)\n",
    "sns.histplot(data=df[df.gender=='female'],x='average',kde=True,hue='lunch')\n",
    "plt.subplot(143)\n",
    "sns.histplot(data=df[df.gender=='male'],x='average',kde=True,hue='lunch')\n",
    "plt.show()"
   ]
  },
  {
   "cell_type": "markdown",
   "id": "c40b6fa0",
   "metadata": {},
   "source": [
    "Insights\n",
    "\n",
    "Standard lunch helps perform well in exams.\n",
    "\n",
    "Standard lunch helps perform well in exams be it a male or a female."
   ]
  },
  {
   "cell_type": "code",
   "execution_count": null,
   "id": "48ee2f8a",
   "metadata": {},
   "outputs": [],
   "source": [
    "plt.figure(figsize=(25,6))\n",
    "plt.subplot(131)\n",
    "sns.histplot(data=df, x='average', kde=True, hue='parental_level_of_education')\n",
    "plt.subplot(132)\n",
    "sns.histplot(data=df[df.gender=='male'], x='average', kde=True, hue='parental_level_of_education')\n",
    "plt.subplot(133)\n",
    "sns.histplot(data=df[df.gender=='female'], x='average', kde=True, hue='parental_level_of_education')\n",
    "plt.show()\n",
    "\n"
   ]
  },
  {
   "cell_type": "markdown",
   "id": "96438c9b",
   "metadata": {},
   "source": [
    "Insights\n",
    "\n",
    "In general parent's education don't help student perform well in exam.\n",
    "\n",
    "2nd plot shows that parent's whose education is of associate's degree or master's degree their male child tend to perform well in exam\n",
    "\n",
    "3rd plot we can see there is no effect of parent's education on female students"
   ]
  },
  {
   "cell_type": "code",
   "execution_count": null,
   "id": "beae6ca3",
   "metadata": {},
   "outputs": [],
   "source": [
    "plt.figure(figsize=(25,6))\n",
    "\n",
    "plt.subplot(131)\n",
    "sns.histplot(data=df, x='average', kde=True, hue='race_ethnicity')\n",
    "\n",
    "plt.subplot(132)\n",
    "sns.histplot(data=df[df.gender == 'female'], x='average', kde=True, hue='race_ethnicity')\n",
    "\n",
    "plt.subplot(133)\n",
    "sns.histplot(data=df[df.gender == 'male'], x='average', kde=True, hue='race_ethnicity')\n",
    "\n",
    "plt.show()\n",
    "\n"
   ]
  },
  {
   "cell_type": "markdown",
   "id": "f38ab766",
   "metadata": {},
   "source": [
    "Insights\n",
    "\n",
    "Students of group A and group B tends to perform poorly in exam.\n",
    "\n",
    "Students of group A and group B tends to perform poorly in exam irrespective of whether they are male or female"
   ]
  },
  {
   "cell_type": "markdown",
   "id": "abe4da67",
   "metadata": {},
   "source": [
    "#### 4.2 Maximumum score of students in all three subjects"
   ]
  },
  {
   "cell_type": "code",
   "execution_count": null,
   "id": "f89b43e4",
   "metadata": {},
   "outputs": [],
   "source": [
    "plt.figure(figsize=(18,8))\n",
    "plt.subplot(1, 4, 1)\n",
    "plt.title('MATH SCORES')\n",
    "sns.violinplot(y='math_score', data=df, color='red', linewidth=3)\n",
    "plt.subplot(1, 4, 2)\n",
    "plt.title('READING SCORES')\n",
    "sns.violinplot(y='reading_score', data=df, color='green', linewidth=3)\n",
    "plt.subplot(1, 4, 3)\n",
    "plt.title('WRITING SCORES')\n",
    "sns.violinplot(y='writing_score', data=df, color='blue', linewidth=3)\n",
    "plt.show()"
   ]
  },
  {
   "cell_type": "markdown",
   "id": "d4e8e416",
   "metadata": {},
   "source": [
    "Insights\n",
    "\n",
    "From the above three plots its clearly visible that most of the students score in between 60-80 in Maths whereas in reading and writing most of them score from 50-80"
   ]
  },
  {
   "cell_type": "markdown",
   "id": "d07853d2",
   "metadata": {},
   "source": [
    "### 4.3 Multivariate analysis using pieplot"
   ]
  },
  {
   "cell_type": "code",
   "execution_count": null,
   "id": "94c5efbd",
   "metadata": {},
   "outputs": [],
   "source": [
    "plt.rcParams['figure.figsize'] = (30, 12)\n",
    "\n",
    "# Gender\n",
    "plt.subplot(1, 5, 1)\n",
    "size = df['gender'].value_counts()\n",
    "labels = size.index.tolist()\n",
    "colors = sns.color_palette('Set2', len(size))\n",
    "plt.pie(size, colors=colors, labels=labels, autopct='%.2f%%')\n",
    "plt.title('Gender', fontsize=20)\n",
    "plt.axis('off')\n",
    "\n",
    "# Race / Ethnicity (use correct column name: race_ethnicity)\n",
    "plt.subplot(1, 5, 2)\n",
    "size = df['race_ethnicity'].value_counts()\n",
    "labels = size.index.tolist()\n",
    "colors = sns.color_palette('Set2', len(size))\n",
    "plt.pie(size, colors=colors, labels=labels, autopct='%.2f%%')\n",
    "plt.title('Race/Ethnicity', fontsize=20)\n",
    "plt.axis('off')\n",
    "\n",
    "# Lunch\n",
    "plt.subplot(1, 5, 3)\n",
    "size = df['lunch'].value_counts()\n",
    "labels = size.index.tolist()\n",
    "colors = sns.color_palette('Set2', len(size))\n",
    "plt.pie(size, colors=colors, labels=labels, autopct='%.2f%%')\n",
    "plt.title('Lunch', fontsize=20)\n",
    "plt.axis('off')\n",
    "\n",
    "# Test preparation course (use correct column name: test_preparation_course)\n",
    "plt.subplot(1, 5, 4)\n",
    "size = df['test_preparation_course'].value_counts()\n",
    "labels = size.index.tolist()\n",
    "colors = sns.color_palette('Set2', len(size))\n",
    "plt.pie(size, colors=colors, labels=labels, autopct='%.2f%%')\n",
    "plt.title('Test Course', fontsize=20)\n",
    "plt.axis('off')\n",
    "\n",
    "# Parental level of education (use correct column name: parental_level_of_education)\n",
    "plt.subplot(1, 5, 5)\n",
    "size = df['parental_level_of_education'].value_counts()\n",
    "labels = size.index.tolist()\n",
    "colors = sns.color_palette('Set2', len(size))\n",
    "plt.pie(size, colors=colors, labels=labels, autopct='%.2f%%')\n",
    "plt.title('Parental Education', fontsize=20)\n",
    "plt.axis('off')\n",
    "\n",
    "plt.tight_layout()\n",
    "plt.show()"
   ]
  },
  {
   "cell_type": "code",
   "execution_count": null,
   "id": "58686e61",
   "metadata": {},
   "outputs": [],
   "source": [
    "plt.rcParams['figure.figsize'] = (30, 12)\n",
    "\n",
    "plt.subplot(1, 5, 1)\n",
    "size = df['gender'].value_counts()\n",
    "labels = 'Female', 'Male'\n",
    "color = ['red','green']\n",
    "\n",
    "\n",
    "plt.pie(size, colors = color, labels = labels,autopct = '.%2f%%')\n",
    "plt.title('Gender', fontsize = 20)\n",
    "plt.axis('off')\n",
    "\n",
    "\n",
    "\n",
    "plt.subplot(1, 5, 2)\n",
    "size = df['race_ethnicity'].value_counts()\n",
    "labels = 'Group C', 'Group D','Group B','Group E','Group A'\n",
    "color = ['red', 'green', 'blue', 'cyan','orange']\n",
    "\n",
    "plt.pie(size, colors = color,labels = labels,autopct = '.%2f%%')\n",
    "plt.title('Race/Ethnicity', fontsize = 20)\n",
    "plt.axis('off')\n",
    "\n",
    "\n",
    "\n",
    "plt.subplot(1, 5, 3)\n",
    "size = df['lunch'].value_counts()\n",
    "labels = 'Standard', 'Free'\n",
    "color = ['red','green']\n",
    "\n",
    "plt.pie(size, colors = color,labels = labels,autopct = '.%2f%%')\n",
    "plt.title('Lunch', fontsize = 20)\n",
    "plt.axis('off')\n",
    "\n",
    "\n",
    "plt.subplot(1, 5, 4)\n",
    "size = df['test_preparation_course'].value_counts()\n",
    "labels = 'None', 'Completed'\n",
    "color = ['red','green']\n",
    "\n",
    "plt.pie(size, colors = color,labels = labels,autopct = '.%2f%%')\n",
    "plt.title('Test Course', fontsize = 20)\n",
    "plt.axis('off')\n",
    "\n",
    "\n",
    "plt.subplot(1, 5, 5)\n",
    "size = df['parental_level_of_education'].value_counts()\n",
    "labels = 'Some College', \"Associate's Degree\",'High School','Some High School',\"Bachelor's Degree\",\"Master's Degree\"\n",
    "color = ['red', 'green', 'blue', 'cyan','orange','grey']\n",
    "\n",
    "plt.pie(size, colors = color,labels = labels,autopct = '.%2f%%')\n",
    "plt.title('Parental Education', fontsize = 20)\n",
    "plt.axis('off')\n",
    "\n",
    "\n",
    "plt.tight_layout()\n",
    "plt.grid()\n",
    "\n",
    "plt.show()"
   ]
  },
  {
   "cell_type": "markdown",
   "id": "f0d04cc0",
   "metadata": {},
   "source": [
    "Insights\n",
    "\n",
    "Number of Male and Female students is almost equal\n",
    "\n",
    "Number students are greatest in Group C\n",
    "\n",
    "Number of students who have standard lunch are greater\n",
    "\n",
    "Number of students who have not enrolled in any test preparation course is greater\n",
    "\n",
    "Number of students whose parental education is \"Some College\" is greater followed closely by \"Associate's Degree\""
   ]
  },
  {
   "cell_type": "markdown",
   "id": "a8f4777c",
   "metadata": {},
   "source": [
    "### 4.4 Feature Wise Visualization\n",
    "#### 4.4.1 GENDER COLUMN\n",
    "How is distribution of Gender ?\n",
    "\n",
    "Is gender has any impact on student's performance ?\n",
    "\n",
    "UNIVARIATE ANALYSIS ( How is distribution of Gender ? )"
   ]
  },
  {
   "cell_type": "code",
   "execution_count": null,
   "id": "b199d0c8",
   "metadata": {},
   "outputs": [],
   "source": [
    "f,ax=plt.subplots(1,2,figsize=(20,10))\n",
    "sns.countplot(x=df['gender'],data=df,palette ='bright',ax=ax[0],saturation=0.95)\n",
    "for container in ax[0].containers:\n",
    "    ax[0].bar_label(container,color='black',size=20)\n",
    "    \n",
    "plt.pie(x=df['gender'].value_counts(),labels=['Male','Female'],explode=[0,0.1],autopct='%1.1f%%',shadow=True,colors=['#ff4d4d','#ff8000'])\n",
    "plt.show()"
   ]
  },
  {
   "cell_type": "markdown",
   "id": "de0f4c81",
   "metadata": {},
   "source": [
    "\n",
    "Insights\n",
    "\n",
    "Gender has balanced data with female students are 518 (48%) and male students are 482 (52%)"
   ]
  },
  {
   "cell_type": "markdown",
   "id": "ef70d528",
   "metadata": {},
   "source": [
    "##### BIVARIATE ANALYSIS ( Is gender has any impact on student's performance ? )\n"
   ]
  },
  {
   "cell_type": "code",
   "execution_count": null,
   "id": "eca3cead",
   "metadata": {},
   "outputs": [],
   "source": [
    "# compute mean only for numeric columns to avoid aggregating object columns\n",
    "numeric_cols = df.select_dtypes(include=np.number).columns\n",
    "gender_group = df.groupby('gender')[numeric_cols].mean()\n",
    "gender_group"
   ]
  },
  {
   "cell_type": "code",
   "execution_count": null,
   "id": "9bbc5ee9",
   "metadata": {},
   "outputs": [],
   "source": [
    "plt.figure(figsize=(10, 8))\n",
    "\n",
    "X = ['Total Average','Math Average']\n",
    "\n",
    "\n",
    "female_scores = [gender_group['average'][0], gender_group['math_score'][0]]\n",
    "male_scores = [gender_group['average'][1], gender_group['math_score'][1]]\n",
    "\n",
    "X_axis = np.arange(len(X))\n",
    "  \n",
    "plt.bar(X_axis - 0.2, male_scores, 0.4, label = 'Male')\n",
    "plt.bar(X_axis + 0.2, female_scores, 0.4, label = 'Female')\n",
    "  \n",
    "plt.xticks(X_axis, X)\n",
    "plt.ylabel(\"Marks\")\n",
    "plt.title(\"Total average v/s Math average marks of both the genders\", fontweight='bold')\n",
    "plt.legend()\n",
    "plt.show()"
   ]
  },
  {
   "cell_type": "markdown",
   "id": "deb47e7d",
   "metadata": {},
   "source": [
    "Insights\n",
    "\n",
    "On an average females have a better overall score than men.\n",
    "whereas males have scored higher in Maths."
   ]
  },
  {
   "cell_type": "markdown",
   "id": "6469bf84",
   "metadata": {},
   "source": [
    "#### 4.4.2 RACE/EHNICITY COLUMN\n",
    "How is Group wise distribution ?\n",
    "\n",
    "Is Race/Ehnicity has any impact on student's performance ?\n",
    "\n",
    "##### UNIVARIATE ANALYSIS ( How is Group wise distribution ?)"
   ]
  },
  {
   "cell_type": "code",
   "execution_count": null,
   "id": "fd10a375",
   "metadata": {},
   "outputs": [],
   "source": [
    "f,ax=plt.subplots(1,2,figsize=(20,10))\n",
    "sns.countplot(x=df['race_ethnicity'],data=df,palette = 'bright',ax=ax[0],saturation=0.95)\n",
    "for container in ax[0].containers:\n",
    "    ax[0].bar_label(container,color='black',size=20)\n",
    "    \n",
    "plt.pie(x = df['race_ethnicity'].value_counts(),labels=df['race_ethnicity'].value_counts().index,explode=[0.1,0,0,0,0],autopct='%1.1f%%',shadow=True)\n",
    "plt.show()   "
   ]
  },
  {
   "cell_type": "markdown",
   "id": "eb1c3e75",
   "metadata": {},
   "source": [
    "Insights\n",
    "\n",
    "Most of the student belonging from group C /group D.\n",
    "\n",
    "Lowest number of students belong to groupA."
   ]
  },
  {
   "cell_type": "markdown",
   "id": "898e2429",
   "metadata": {},
   "source": [
    "##### BIVARIATE ANALYSIS ( Is Race/Ehnicity has any impact on student's performance ? )"
   ]
  },
  {
   "cell_type": "code",
   "execution_count": null,
   "id": "eba9f625",
   "metadata": {},
   "outputs": [],
   "source": [
    "Group_data2=df.groupby('race_ethnicity')\n",
    "f,ax=plt.subplots(1,3,figsize=(20,8))\n",
    "sns.barplot(x=Group_data2['math_score'].mean().index,y=Group_data2['math_score'].mean().values,palette = 'mako',ax=ax[0])\n",
    "ax[0].set_title('Math_score',color='#005ce6',size=20)\n",
    "\n",
    "for container in ax[0].containers:\n",
    "    ax[0].bar_label(container,color='black',size=15)\n",
    "\n",
    "sns.barplot(x=Group_data2['reading_score'].mean().index,y=Group_data2['reading_score'].mean().values,palette = 'flare',ax=ax[1])\n",
    "ax[1].set_title('Reading_score',color='#005ce6',size=20)\n",
    "\n",
    "for container in ax[1].containers:\n",
    "    ax[1].bar_label(container,color='black',size=15)\n",
    "\n",
    "sns.barplot(x=Group_data2['writing_score'].mean().index,y=Group_data2['writing_score'].mean().values,palette = 'coolwarm',ax=ax[2])\n",
    "ax[2].set_title('Writing_score',color='#005ce6',size=20)\n",
    "\n",
    "for container in ax[2].containers:\n",
    "    ax[2].bar_label(container,color='black',size=15)"
   ]
  },
  {
   "cell_type": "markdown",
   "id": "ca27d193",
   "metadata": {},
   "source": [
    "Insights\n",
    "\n",
    "Group E students have scored the highest marks.\n",
    "\n",
    "Group A students have scored the lowest marks.\n",
    "\n",
    "Students from a lower Socioeconomic status have a lower avg in all course subjects"
   ]
  },
  {
   "cell_type": "markdown",
   "id": "54328a00",
   "metadata": {},
   "source": [
    "#### 4.4.3 PARENTAL LEVEL OF EDUCATION COLUMN\n",
    "What is educational background of student's parent ?\n",
    "\n",
    "Is parental education has any impact on student's performance ?\n",
    "\n",
    "##### UNIVARIATE ANALYSIS ( What is educational background of student's parent ? )"
   ]
  },
  {
   "cell_type": "code",
   "execution_count": null,
   "id": "5be8c161",
   "metadata": {},
   "outputs": [],
   "source": [
    "plt.rcParams['figure.figsize'] = (15, 9)\n",
    "plt.style.use('fivethirtyeight')\n",
    "sns.countplot(df['parental_level_of_education'], palette = 'Blues')\n",
    "plt.title('Comparison of Parental Education', fontweight = 30, fontsize = 20)\n",
    "plt.xlabel('Degree')\n",
    "plt.ylabel('count')\n",
    "plt.show()"
   ]
  },
  {
   "cell_type": "markdown",
   "id": "f578f561",
   "metadata": {},
   "source": [
    "Insights\n",
    "\n",
    "Largest number of parents are from some college."
   ]
  },
  {
   "cell_type": "markdown",
   "id": "e55f3ab7",
   "metadata": {},
   "source": [
    "#### BIVARIATE ANALYSIS ( Is parental education has any impact on student's performance ? )"
   ]
  },
  {
   "cell_type": "code",
   "execution_count": null,
   "id": "834eb85e",
   "metadata": {},
   "outputs": [],
   "source": [
    "df.groupby('parental_level_of_education')[df.select_dtypes(include='number').columns].mean().plot(kind='barh', figsize=(10,10))\n",
    "plt.legend(bbox_to_anchor=(1.05, 1), loc=2, borderaxespad=0.)\n",
    "plt.show()\n",
    "\n"
   ]
  },
  {
   "cell_type": "markdown",
   "id": "55d0498f",
   "metadata": {},
   "source": [
    "Insights\n",
    "\n",
    "The score of student whose parents possess master and bachelor level education are higher than others."
   ]
  },
  {
   "cell_type": "markdown",
   "id": "989c8ba9",
   "metadata": {},
   "source": [
    "#### 4.4.4 LUNCH COLUMN\n",
    "Which type of lunch is most common amoung students ?\n",
    "\n",
    "What is the effect of lunch type on test results?\n",
    "##### UNIVARIATE ANALYSIS ( Which type of lunch is most common amoung students ? )"
   ]
  },
  {
   "cell_type": "code",
   "execution_count": null,
   "id": "3dc186ce",
   "metadata": {},
   "outputs": [],
   "source": [
    "plt.rcParams['figure.figsize'] = (15, 9)\n",
    "plt.style.use('seaborn-talk')\n",
    "sns.countplot(df['lunch'], palette = 'PuBu')\n",
    "plt.title('Comparison of different types of lunch', fontweight = 30, fontsize = 20)\n",
    "plt.xlabel('types of lunch')\n",
    "plt.ylabel('count')\n",
    "plt.show()"
   ]
  },
  {
   "cell_type": "markdown",
   "id": "7c5ccaf1",
   "metadata": {},
   "source": [
    "Insights\n",
    "\n",
    "Students being served Standard lunch was more than free lunch"
   ]
  },
  {
   "cell_type": "markdown",
   "id": "8e90b960",
   "metadata": {},
   "source": [
    "#### BIVARIATE ANALYSIS ( Is lunch type intake has any impact on student's performance ? "
   ]
  },
  {
   "cell_type": "code",
   "execution_count": null,
   "id": "d1120032",
   "metadata": {},
   "outputs": [],
   "source": [
    "f,ax=plt.subplots(1,2,figsize=(20,8))\n",
    "sns.countplot(x=df['parental_level_of_education'],data=df,palette = 'bright',hue='test_preparation_course',saturation=0.95,ax=ax[0])\n",
    "ax[0].set_title('Students vs test preparation course ',color='black',size=25)\n",
    "for container in ax[0].containers:\n",
    "    ax[0].bar_label(container,color='black',size=20)\n",
    "    \n",
    "sns.countplot(x=df['parental_level_of_education'],data=df,palette = 'bright',hue='lunch',saturation=0.95,ax=ax[1])\n",
    "for container in ax[1].containers:\n",
    "    ax[1].bar_label(container,color='black',size=20)  \n",
    "\n"
   ]
  },
  {
   "cell_type": "markdown",
   "id": "d356055b",
   "metadata": {},
   "source": [
    "Insights\n",
    "\n",
    "Students who get Standard Lunch tend to perform better than students who got free/reduced lunch"
   ]
  },
  {
   "cell_type": "markdown",
   "id": "5ab71f88",
   "metadata": {},
   "source": [
    "#### 4.4.5 TEST PREPARATION COURSE COLUMN\n",
    "Which type of lunch is most common amoung students ?\n",
    "\n",
    "Is Test prepration course has any impact on student's performance ?\n",
    "##### BIVARIATE ANALYSIS ( Is Test prepration course has any impact on student's performance ? )"
   ]
  },
  {
   "cell_type": "code",
   "execution_count": null,
   "id": "82f956d1",
   "metadata": {},
   "outputs": [],
   "source": [
    "plt.figure(figsize=(12,6))\n",
    "plt.subplot(2,2,1)\n",
    "sns.barplot (x=df['lunch'], y=df['math_score'], hue=df['test_preparation_course'])\n",
    "plt.subplot(2,2,2)\n",
    "sns.barplot (x=df['lunch'], y=df['reading_score'], hue=df['test_preparation_course'])\n",
    "plt.subplot(2,2,3)\n",
    "sns.barplot (x=df['lunch'], y=df['writing_score'], hue=df['test_preparation_course'])"
   ]
  },
  {
   "cell_type": "markdown",
   "id": "eacff290",
   "metadata": {},
   "source": [
    "Insights\n",
    "\n",
    "Students who have completed the Test Prepration Course have scores higher in all three categories than those who haven't taken the course"
   ]
  },
  {
   "cell_type": "markdown",
   "id": "ef39028a",
   "metadata": {},
   "source": [
    "#### 4.4.6 CHECKING OUTLIERS"
   ]
  },
  {
   "cell_type": "code",
   "execution_count": null,
   "id": "52afd812",
   "metadata": {},
   "outputs": [],
   "source": [
    "plt.subplots(1,4,figsize=(16,5))\n",
    "plt.subplot(141)\n",
    "sns.boxplot(df['math_score'],color='skyblue')\n",
    "plt.subplot(142)\n",
    "sns.boxplot(df['reading_score'],color='hotpink')\n",
    "plt.subplot(143)\n",
    "sns.boxplot(df['writing_score'],color='yellow')\n",
    "plt.subplot(144)\n",
    "sns.boxplot(df['average'],color='lightgreen')\n",
    "plt.show()"
   ]
  },
  {
   "cell_type": "markdown",
   "id": "894c1789",
   "metadata": {},
   "source": [
    "#### 4.4.7 MUTIVARIATE ANALYSIS USING PAIRPLOT"
   ]
  },
  {
   "cell_type": "code",
   "execution_count": null,
   "id": "5579be1e",
   "metadata": {},
   "outputs": [],
   "source": [
    "sns.pairplot(df,hue = 'gender')\n",
    "plt.show()"
   ]
  },
  {
   "cell_type": "markdown",
   "id": "a79ed84c",
   "metadata": {},
   "source": [
    "Insights\n",
    "\n",
    "From the above plot it is clear that all the scores increase linearly with each other."
   ]
  },
  {
   "cell_type": "markdown",
   "id": "65442cc4",
   "metadata": {},
   "source": [
    "\n",
    "##### 5. Conclusions\n",
    "Student's Performance is related with lunch, race, parental level education\n",
    "\n",
    "Females lead in pass percentage and also are top-scorers\n",
    "\n",
    "Student's Performance is not much related with test preparation course\n",
    "\n",
    "Finishing preparation course is benefitial."
   ]
  },
  {
   "cell_type": "code",
   "execution_count": null,
   "id": "ac43a80f",
   "metadata": {},
   "outputs": [],
   "source": []
  }
 ],
 "metadata": {
  "kernelspec": {
   "display_name": "Python 3",
   "language": "python",
   "name": "python3"
  },
  "language_info": {
   "codemirror_mode": {
    "name": "ipython",
    "version": 3
   },
   "file_extension": ".py",
   "mimetype": "text/x-python",
   "name": "python",
   "nbconvert_exporter": "python",
   "pygments_lexer": "ipython3",
   "version": "3.13.0"
  }
 },
 "nbformat": 4,
 "nbformat_minor": 5
}
